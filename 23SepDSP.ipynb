{
  "cells": [
    {
      "cell_type": "markdown",
      "metadata": {
        "id": "view-in-github",
        "colab_type": "text"
      },
      "source": [
        "<a href=\"https://colab.research.google.com/github/ratesh21/DSP/blob/main/23SepDSP.ipynb\" target=\"_parent\"><img src=\"https://colab.research.google.com/assets/colab-badge.svg\" alt=\"Open In Colab\"/></a>"
      ]
    },
    {
      "cell_type": "code",
      "execution_count": null,
      "metadata": {
        "colab": {
          "base_uri": "https://localhost:8080/",
          "height": 648
        },
        "id": "yjG5mVBYAqvr",
        "outputId": "ed816808-ea21-40d9-d654-5891d690444a"
      },
      "outputs": [
        {
          "output_type": "stream",
          "name": "stdout",
          "text": [
            "Cross-Convolution using inbuilt function: \n",
            "\n",
            "[-10 -13   2  -1   8  19  11   6   6   0  -1]\n",
            "\n",
            "Cross-Convolution using user-defined function: \n",
            "\n",
            "[  0. -10. -13.   2.  -1.   8.  19.  11.   6.   6.   0.]\n"
          ]
        },
        {
          "output_type": "stream",
          "name": "stderr",
          "text": [
            "<ipython-input-42-c7c15dddd014>:68: MatplotlibDeprecationWarning: The 'use_line_collection' parameter of stem() was deprecated in Matplotlib 3.6 and will be removed two minor releases later. If any parameter follows 'use_line_collection', they should be passed as keyword, not positionally.\n",
            "  plt.stem(y_userconv, use_line_collection = True)\n"
          ]
        },
        {
          "output_type": "display_data",
          "data": {
            "text/plain": [
              "<Figure size 640x480 with 1 Axes>"
            ],
            "image/png": "[encoded data removed]"
          },
          "metadata": {}
        }
      ],
      "source": [
        "#Q2) Perform Cross-Convolution by user-defined methods\n",
        "\n",
        "import numpy as np\n",
        "import matplotlib.pyplot as plt\n",
        "\n",
        "n1 = np.arange(-12, -5, 1)\n",
        "n2 = np.arange(-2, 3, 1)\n",
        "# To calculate the delay for the cross-correlation, we need to consider the starting indices of n1 and n2.\n",
        "# The delay is calculated as the difference between the starting indices of the two signals.\n",
        "delay = n2[0]-n1[0]\n",
        "\n",
        "n = np.arange(n1[0] + n2[0], n1[0] + n2[0] + len(n1) + len(n2) - 1)\n",
        "\n",
        "x = np.array([-5, 1, 2, 1, 3, 2, -1])\n",
        "h = np.array([2, 3, 1, 2, 1])\n",
        "\n",
        "h_cc = np.array([1, 2, 1, 3, 2])\n",
        "\n",
        "#Cross-covolution using in-built function\n",
        "cross_convolution = np.correlate(x, h_cc, 'full')\n",
        "print('Cross-Convolution using inbuilt function: ')\n",
        "print()\n",
        "print(cross_convolution)\n",
        "\n",
        "def fold(h):\n",
        "  return np.flip(h)\n",
        "\n",
        "def padd(x, h):\n",
        "  l1 = len(x)\n",
        "  l2 = len(h)\n",
        "\n",
        "  convolved_length = l1 + l2 -1\n",
        "  x_pad = np.zeros(convolved_length)\n",
        "  h_pad = np.zeros(convolved_length)\n",
        "\n",
        "  x_pad[0:l1] = x\n",
        "  h_pad[0:l2] = h\n",
        "\n",
        "  return x_pad, h_pad\n",
        "\n",
        "\n",
        "def multiply(x, h, m, k):\n",
        "  y = 0\n",
        "  len_h = len(h)\n",
        "  y = x[k] * h[len_h - m + k]\n",
        "\n",
        "  return y\n",
        "\n",
        "def add(x, h, m):\n",
        "  y = 0\n",
        "  for i in range(m):\n",
        "    y = y + multiply(x, h, m, i)\n",
        "\n",
        "  return y\n",
        "\n",
        "conv_length = len(x) + len(h) - 1\n",
        "\n",
        "x, h = padd(x, h)\n",
        "h = fold(h)\n",
        "y_userconv = np.zeros(conv_length)\n",
        "for i in range(conv_length):\n",
        "  y_userconv[i] = add(x, h, i)\n",
        "print()\n",
        "print('Cross-Convolution using user-defined function: ')\n",
        "print()\n",
        "print(y_userconv)\n",
        "\n",
        "plt.stem(y_userconv, use_line_collection = True)\n",
        "plt.title('User-Defined Cross-Correlation')\n",
        "plt.xlabel('n')\n",
        "plt.ylabel('y(n)')\n",
        "plt.grid(True)\n",
        "plt.show()"
      ]
    },
    {
      "cell_type": "code",
      "execution_count": null,
      "metadata": {
        "id": "GYqQlV2qRzGT"
      },
      "outputs": [],
      "source": []
    }
  ],
  "metadata": {
    "colab": {
      "provenance": [],
      "authorship_tag": "ABX9TyNWPHjGsXujxx4vC5QFcGTT",
      "include_colab_link": true
    },
    "kernelspec": {
      "display_name": "Python 3",
      "name": "python3"
    },
    "language_info": {
      "name": "python"
    }
  },
  "nbformat": 4,
  "nbformat_minor": 0
}